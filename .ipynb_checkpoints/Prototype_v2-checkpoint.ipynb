{
 "cells": [
  {
   "cell_type": "code",
   "execution_count": 1,
   "metadata": {},
   "outputs": [
    {
     "data": {
      "application/javascript": [
       "var rate = 0;\n",
       "// apply setting to  all current CodeMirror instances\n",
       "IPython.notebook.get_cells().map(\n",
       "    function(c) {  return c.code_mirror.options.cursorBlinkRate=rate;  }\n",
       ");\n",
       "\n",
       "// make sure new CodeMirror instance also use this setting\n",
       "CodeMirror.defaults.cursorBlinkRate=rate;"
      ],
      "text/plain": [
       "<IPython.core.display.Javascript object>"
      ]
     },
     "metadata": {},
     "output_type": "display_data"
    }
   ],
   "source": [
    "%%javascript\n",
    "var rate = 0;\n",
    "// apply setting to  all current CodeMirror instances\n",
    "IPython.notebook.get_cells().map(\n",
    "    function(c) {  return c.code_mirror.options.cursorBlinkRate=rate;  }\n",
    ");\n",
    "\n",
    "// make sure new CodeMirror instance also use this setting\n",
    "CodeMirror.defaults.cursorBlinkRate=rate;"
   ]
  },
  {
   "cell_type": "code",
   "execution_count": 2,
   "metadata": {},
   "outputs": [],
   "source": [
    "from svcaller.calling.events import clust_filt\n",
    "import pysam\n",
    "input_bam = \"/Users/thowhi/vms/fixing/fairbanks/event_filtered.bam\"\n",
    "samfile = pysam.AlignmentFile(input_bam, \"rb\")\n",
    "reads = [r for r in list(samfile)]\n",
    "reads_subset = reads"
   ]
  },
  {
   "cell_type": "code",
   "execution_count": 3,
   "metadata": {},
   "outputs": [
    {
     "name": "stdout",
     "output_type": "stream",
     "text": [
      "TRACE: curr_guess_idx = 249999.\n",
      "TRACE: curr_guess_idx = 374999.\n",
      "TRACE: curr_guess_idx = 312499.\n",
      "TRACE: curr_guess_idx = 343749.\n",
      "TRACE: curr_guess_idx = 328124.\n",
      "TRACE: curr_guess_idx = 335937.\n",
      "TRACE: curr_guess_idx = 339843.\n",
      "TRACE: curr_guess_idx = 337890.\n",
      "TRACE: curr_guess_idx = 338867.\n",
      "TRACE: curr_guess_idx = 338378.\n",
      "TRACE: curr_guess_idx = 338134.\n",
      "TRACE: curr_guess_idx = 338256.\n",
      "TRACE: curr_guess_idx = 338195.\n",
      "TRACE: curr_guess_idx = 338164.\n",
      "TRACE: curr_guess_idx = 338149.\n",
      "TRACE: curr_guess_idx = 338141.\n",
      "TRACE: curr_guess_idx = 338137.\n",
      "TRACE: curr_guess_idx = 338139.\n",
      "TRACE: curr_guess_idx = 249999.\n",
      "TRACE: curr_guess_idx = 374999.\n",
      "TRACE: curr_guess_idx = 437499.\n",
      "TRACE: curr_guess_idx = 468749.\n",
      "TRACE: curr_guess_idx = 453124.\n",
      "TRACE: curr_guess_idx = 445311.\n",
      "TRACE: curr_guess_idx = 441405.\n",
      "TRACE: curr_guess_idx = 439452.\n",
      "TRACE: curr_guess_idx = 440429.\n",
      "TRACE: curr_guess_idx = 440917.\n",
      "TRACE: curr_guess_idx = 440673.\n",
      "TRACE: curr_guess_idx = 440551.\n",
      "TRACE: curr_guess_idx = 440490.\n",
      "TRACE: curr_guess_idx = 440459.\n",
      "TRACE: curr_guess_idx = 440444.\n",
      "TRACE: curr_guess_idx = 440452.\n",
      "TRACE: curr_guess_idx = 440448.\n",
      "TRACE: curr_guess_idx = 249999.\n",
      "TRACE: curr_guess_idx = 374999.\n",
      "TRACE: curr_guess_idx = 437499.\n",
      "TRACE: curr_guess_idx = 468749.\n",
      "TRACE: curr_guess_idx = 484374.\n",
      "TRACE: curr_guess_idx = 492187.\n",
      "TRACE: curr_guess_idx = 496093.\n",
      "TRACE: curr_guess_idx = 498046.\n",
      "TRACE: curr_guess_idx = 499023.\n",
      "TRACE: curr_guess_idx = 499511.\n",
      "TRACE: curr_guess_idx = 499755.\n",
      "TRACE: curr_guess_idx = 499877.\n",
      "TRACE: curr_guess_idx = 499938.\n",
      "TRACE: curr_guess_idx = 499969.\n",
      "TRACE: curr_guess_idx = 499984.\n",
      "TRACE: curr_guess_idx = 499992.\n",
      "TRACE: curr_guess_idx = 499996.\n",
      "TRACE: curr_guess_idx = 499998.\n",
      "TRACE: curr_guess_idx = 499999.\n"
     ]
    },
    {
     "name": "stderr",
     "output_type": "stream",
     "text": [
      "0\n"
     ]
    },
    {
     "ename": "AssertionError",
     "evalue": "",
     "output_type": "error",
     "traceback": [
      "\u001b[0;31m---------------------------------------------------------------------------\u001b[0m",
      "\u001b[0;31mAssertionError\u001b[0m                            Traceback (most recent call last)",
      "\u001b[0;32m<ipython-input-3-8c9341b2431f>\u001b[0m in \u001b[0;36m<module>\u001b[0;34m()\u001b[0m\n\u001b[0;32m----> 1\u001b[0;31m \u001b[0mclust_filt\u001b[0m\u001b[0;34m(\u001b[0m\u001b[0mreads_subset\u001b[0m\u001b[0;34m)\u001b[0m\u001b[0;34m\u001b[0m\u001b[0m\n\u001b[0m\u001b[1;32m      2\u001b[0m \u001b[0;31m#%prun -s cumulative clust_filt(reads_subset)\u001b[0m\u001b[0;34m\u001b[0m\u001b[0;34m\u001b[0m\u001b[0m\n",
      "\u001b[0;32m~/repos/svcaller/svcaller/calling/events.py\u001b[0m in \u001b[0;36mclust_filt\u001b[0;34m(reads)\u001b[0m\n\u001b[1;32m    364\u001b[0m \u001b[0;34m\u001b[0m\u001b[0m\n\u001b[1;32m    365\u001b[0m         \u001b[0mpaired_read_idx\u001b[0m \u001b[0;34m=\u001b[0m \u001b[0mfind_pair_idx\u001b[0m\u001b[0;34m(\u001b[0m\u001b[0mread\u001b[0m\u001b[0;34m,\u001b[0m \u001b[0mreads\u001b[0m\u001b[0;34m)\u001b[0m\u001b[0;34m\u001b[0m\u001b[0m\n\u001b[0;32m--> 366\u001b[0;31m         \u001b[0;32massert\u001b[0m \u001b[0mpaired_read_idx\u001b[0m \u001b[0;34m!=\u001b[0m \u001b[0;34m-\u001b[0m\u001b[0;36m1\u001b[0m\u001b[0;34m\u001b[0m\u001b[0m\n\u001b[0m\u001b[1;32m    367\u001b[0m         \u001b[0;32mif\u001b[0m \u001b[0mread_density\u001b[0m\u001b[0;34m(\u001b[0m\u001b[0mreads\u001b[0m\u001b[0;34m,\u001b[0m \u001b[0mread_idx\u001b[0m\u001b[0;34m)\u001b[0m \u001b[0;34m<\u001b[0m \u001b[0mread_density\u001b[0m\u001b[0;34m(\u001b[0m\u001b[0mreads\u001b[0m\u001b[0;34m,\u001b[0m \u001b[0mpaired_read_idx\u001b[0m\u001b[0;34m)\u001b[0m\u001b[0;34m:\u001b[0m\u001b[0;34m\u001b[0m\u001b[0m\n\u001b[1;32m    368\u001b[0m             \u001b[0;31m# NOTE: The choice of whether to iterate at the read's position or it's paired\u001b[0m\u001b[0;34m\u001b[0m\u001b[0;34m\u001b[0m\u001b[0m\n",
      "\u001b[0;31mAssertionError\u001b[0m: "
     ]
    }
   ],
   "source": [
    "clust_filt(reads_subset)\n",
    "#%prun -s cumulative clust_filt(reads_subset)"
   ]
  },
  {
   "cell_type": "code",
   "execution_count": 2,
   "metadata": {},
   "outputs": [],
   "source": [
    "from collections import OrderedDict\n",
    "#from svcaller.effect.consequence import *"
   ]
  },
  {
   "cell_type": "code",
   "execution_count": 3,
   "metadata": {},
   "outputs": [],
   "source": [
    "import pandas as pd"
   ]
  },
  {
   "cell_type": "code",
   "execution_count": 4,
   "metadata": {},
   "outputs": [],
   "source": [
    "test_DEL_1 = pd.DataFrame(\n",
    "    OrderedDict({\n",
    "    \"chrom\": [1],\n",
    "    \"start\": [700],\n",
    "    \"end\": [800],\n",
    "    \"type\": [\"DEL\"],\n",
    "    \"score\": [0],\n",
    "    \"strand\": [\"+\"]\n",
    "})).iloc[0,:]\n",
    "\n",
    "test_DELs = pd.DataFrame(\n",
    "    OrderedDict({\n",
    "    \"chrom\": [1, 1],\n",
    "    \"start\": [700, 1000],\n",
    "    \"end\": [800, 1100],\n",
    "    \"type\": [\"DEL\", \"DEL\"],\n",
    "    \"score\": [0, 0],\n",
    "    \"strand\": [\"+\", \"+\"]\n",
    "}))\n",
    "\n",
    "test_DUPs = pd.DataFrame(\n",
    "    OrderedDict({\n",
    "    \"chrom\": [1, 1],\n",
    "    \"start\": [700, 1000],\n",
    "    \"end\": [800, 1100],\n",
    "    \"type\": [\"DUP\", \"DUP\"],\n",
    "    \"score\": [0, 0],\n",
    "    \"strand\": [\"+\", \"+\"]\n",
    "}))\n",
    "\n",
    "test_regions_1 = pd.DataFrame(\n",
    "    OrderedDict({\n",
    "    \"chrom\": [1, 1],\n",
    "    \"start\": [500, 1500],\n",
    "    \"end\": [1000, 2000],\n",
    "    \"gene\": [\"TS1\", \"TS1\"]\n",
    "}))"
   ]
  },
  {
   "cell_type": "code",
   "execution_count": 6,
   "metadata": {
    "scrolled": true
   },
   "outputs": [],
   "source": [
    "from svcaller.calling.events import read_sv_gtf, SvType"
   ]
  },
  {
   "cell_type": "code",
   "execution_count": 107,
   "metadata": {},
   "outputs": [
    {
     "name": "stderr",
     "output_type": "stream",
     "text": [
      "DEBUG:past.translation:Running find_module: pandas._libs.operator...\n",
      "DEBUG:past.translation:Py2Fixer could not find {0}\n",
      "DEBUG:past.translation:Exception was: operator)\n"
     ]
    }
   ],
   "source": [
    "sv_gtf_file = open(\"/Users/thowhi/analysis/scratch/tmp-events.gtf\")\n",
    "names = [\"chrom\", \"source\", \"feature\", \"start\", \"end\", \"score\", \"strand\", \"frame\", \"attribute\"]\n",
    "gtf_file_df = pd.read_table(sv_gtf_file, sep=\"\\t\", header=None, index_col=None, names=names)\n",
    "gtf_file_termini = gtf_file_df.loc[gtf_file_df[\"feature\"] == \"exon\", :].copy()\n",
    "event_names = gtf_file_termini[\"attribute\"].apply(\n",
    "    lambda attribute: attribute.split(\" \")[1].replace(\"\\\"\", \"\").replace(\";\", \"\"))\n",
    "gtf_file_termini[\"event_names\"] = event_names\n",
    "groups = gtf_file_termini.groupby(\"event_names\")"
   ]
  },
  {
   "cell_type": "code",
   "execution_count": 27,
   "metadata": {},
   "outputs": [],
   "source": [
    "def extract_bed_data(group, event_type):\n",
    "    assert len(group) == 2\n",
    "    bed_data = []\n",
    "    if event_type == SvType.TRA:\n",
    "        # Represent each terminus as a separate bed item:\n",
    "        for _, row in group.iterrows():\n",
    "            bed_data.append([row[0], row[3], row[4], event_type.value, row[5], row[6]])\n",
    "    else:\n",
    "        coords = group.iloc[:,3:5].values.flatten()\n",
    "        start = min(coords)\n",
    "        end = max(coords)\n",
    "        strand = None\n",
    "        if group.iloc[0,6] == group.iloc[1,6]:\n",
    "            strand = group.iloc[0,6]\n",
    "        bed_data.append([group.iloc[0,0], start, end, event_type.value, group.iloc[0,5], strand])\n",
    "    return bed_data\n",
    "\n",
    "\n",
    "def read_sv_gtf(sv_gtf_file, event_type):\n",
    "    \"\"\"\n",
    "    Read a structural variants gtf file and generate a bed-format compatible table\n",
    "    representing the event coordinates.\n",
    "\n",
    "    :param sv_gtf_file: An open gtf-formatted file containing structural variant calls\n",
    "    :param event_type: An SvType enumeration value specifying the structural variant type\n",
    "    :return: A data frame containing the structural variant calls\n",
    "    \"\"\"\n",
    "\n",
    "    names = [\"chrom\", \"source\", \"feature\", \"start\", \"end\", \"score\", \"strand\", \"frame\", \"attribute\"]\n",
    "    gtf_file_df = pd.read_table(sv_gtf_file, sep=\"\\t\", header=None, index_col=None, names=names)\n",
    "    gtf_file_termini = gtf_file_df.loc[gtf_file_df[\"feature\"] == \"exon\", :].copy()\n",
    "    event_names = gtf_file_termini[\"attribute\"].apply(\n",
    "        lambda attribute: attribute.split(\" \")[1].replace(\"\\\"\", \"\").replace(\";\", \"\"))\n",
    "    gtf_file_termini[\"event_names\"] = event_names\n",
    "    groups = gtf_file_termini.groupby(\"event_names\")\n",
    "    def bed_extractor(group):\n",
    "        return extract_bed_data(group, event_type)\n",
    "\n",
    "    return groups.apply(bed_extractor)"
   ]
  },
  {
   "cell_type": "code",
   "execution_count": 38,
   "metadata": {},
   "outputs": [],
   "source": [
    "x = read_sv_gtf(open(\"/Users/thowhi/analysis/scratch/test1.gtf\"), SvType.TRA)"
   ]
  },
  {
   "cell_type": "code",
   "execution_count": 39,
   "metadata": {},
   "outputs": [
    {
     "data": {
      "text/html": [
       "<div>\n",
       "<style>\n",
       "    .dataframe thead tr:only-child th {\n",
       "        text-align: right;\n",
       "    }\n",
       "\n",
       "    .dataframe thead th {\n",
       "        text-align: left;\n",
       "    }\n",
       "\n",
       "    .dataframe tbody tr th {\n",
       "        vertical-align: top;\n",
       "    }\n",
       "</style>\n",
       "<table border=\"1\" class=\"dataframe\">\n",
       "  <thead>\n",
       "    <tr style=\"text-align: right;\">\n",
       "      <th></th>\n",
       "      <th>0</th>\n",
       "      <th>1</th>\n",
       "      <th>2</th>\n",
       "      <th>3</th>\n",
       "      <th>4</th>\n",
       "      <th>5</th>\n",
       "    </tr>\n",
       "  </thead>\n",
       "  <tbody>\n",
       "    <tr>\n",
       "      <th>0</th>\n",
       "      <td>21</td>\n",
       "      <td>39874777</td>\n",
       "      <td>39875065</td>\n",
       "      <td>TRA</td>\n",
       "      <td>46</td>\n",
       "      <td>+</td>\n",
       "    </tr>\n",
       "    <tr>\n",
       "      <th>1</th>\n",
       "      <td>21</td>\n",
       "      <td>42871970</td>\n",
       "      <td>42872366</td>\n",
       "      <td>TRA</td>\n",
       "      <td>46</td>\n",
       "      <td>+</td>\n",
       "    </tr>\n",
       "  </tbody>\n",
       "</table>\n",
       "</div>"
      ],
      "text/plain": [
       "    0         1         2    3   4  5\n",
       "0  21  39874777  39875065  TRA  46  +\n",
       "1  21  42871970  42872366  TRA  46  +"
      ]
     },
     "execution_count": 39,
     "metadata": {},
     "output_type": "execute_result"
    }
   ],
   "source": [
    "pd.DataFrame(x[1])"
   ]
  },
  {
   "cell_type": "code",
   "execution_count": 42,
   "metadata": {},
   "outputs": [],
   "source": [
    "with open(\"TumourSupressors.bed\", 'w') as ts_file:\n",
    "    ts_file.write('''1\\t500\\t1000\\tTS1\n",
    "1\\t1500\\t2000\\tTS1\n",
    "2\\t500\\t1000\\tTS2\n",
    "2\\t1500\\t2000\\tTS2\n",
    "''')\n",
    "\n",
    "with open(\"AR.bed\", 'w') as ar_file:\n",
    "    ar_file.write('''X\\t500\\t1000\\tTS1\n",
    "X\\t1500\\t2000\\tTS1\n",
    "X\\t2500\\t3000\\tTS2\n",
    "X\\t3500\\t4000\\tTS2\n",
    "''')\n",
    "\n",
    "with open(\"FusionCandidates.bed\", 'w') as fusion_file:\n",
    "    fusion_file.write('''21\\t1000000\\t1100000\\tERG\n",
    "21\\t2000000\\t2100000\\tTMPRSS2\n",
    "''')\n",
    "\n",
    "with open(\"SVs.bed\", 'w') as svs_file:\n",
    "    svs_file.write('''21\\t1500000\\t1500100\\tDEL\\t0\\t+\n",
    "21\\t2500000\\t2500100\\tDEL\\t0\\t+\n",
    "1\\t1600\\t1700\\tDEL\\t0\\t+\n",
    "1\\t1800\\t1900\\tTRA\\t0\\t+\n",
    "1\\t1400\\t1600\\tDEL\\t0\\t+\n",
    "1\\t3100\\t3200\\tDEL\\t0\\t+\n",
    "''')"
   ]
  },
  {
   "cell_type": "code",
   "execution_count": 128,
   "metadata": {},
   "outputs": [
    {
     "data": {
      "text/plain": [
       "<SvEffect.NO_OVERLAP: 'NO_OVERLAP'>"
      ]
     },
     "execution_count": 128,
     "metadata": {},
     "output_type": "execute_result"
    }
   ],
   "source": [
    "predict_del_effect(test_sv, GeneClass.TUMOUR_SUPRESSOR, test_regions)"
   ]
  },
  {
   "cell_type": "code",
   "execution_count": 67,
   "metadata": {
    "scrolled": false
   },
   "outputs": [
    {
     "name": "stderr",
     "output_type": "stream",
     "text": [
      "TRACE: sv_type: SvType.DEL\n",
      "TRACE: sv_row:\n",
      "0       1\n",
      "1    1600\n",
      "2    1700\n",
      "3     DEL\n",
      "4       0\n",
      "5       +\n",
      "Name: 2, dtype: object\n",
      "TRACE: sv_row:\n",
      "0       1\n",
      "1    1400\n",
      "2    1600\n",
      "3     DEL\n",
      "4       0\n",
      "5       +\n",
      "Name: 4, dtype: object\n",
      "TRACE: sv_type: SvType.INV\n",
      "TRACE: sv_type: SvType.TRA\n",
      "TRACE: sv_row:\n",
      "0       1\n",
      "1    1800\n",
      "2    1900\n",
      "3     TRA\n",
      "4       0\n",
      "5       +\n",
      "Name: 3, dtype: object\n",
      "TRACE: sv_type: SvType.DUP\n",
      "TRACE: sv_type: SvType.DEL\n",
      "TRACE: sv_type: SvType.INV\n",
      "TRACE: sv_type: SvType.TRA\n",
      "TRACE: sv_type: SvType.DUP\n"
     ]
    },
    {
     "data": {
      "text/plain": [
       "defaultdict(list, {'TS1': [None, None, None]})"
      ]
     },
     "execution_count": 67,
     "metadata": {},
     "output_type": "execute_result"
    }
   ],
   "source": [
    "svs_table = extract_groups('SVs.bed')\n",
    "ts_table = extract_groups('TumourSupressors.bed')\n",
    "\n",
    "predict_svs_effect_for_class(svs_table, GeneClass.TUMOUR_SUPRESSOR, ts_table)"
   ]
  }
 ],
 "metadata": {
  "kernelspec": {
   "display_name": "Python 3",
   "language": "python",
   "name": "python3"
  },
  "language_info": {
   "codemirror_mode": {
    "name": "ipython",
    "version": 3
   },
   "file_extension": ".py",
   "mimetype": "text/x-python",
   "name": "python",
   "nbconvert_exporter": "python",
   "pygments_lexer": "ipython3",
   "version": "3.6.2"
  }
 },
 "nbformat": 4,
 "nbformat_minor": 2
}

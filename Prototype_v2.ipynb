{
 "cells": [
  {
   "cell_type": "code",
   "execution_count": 130,
   "metadata": {},
   "outputs": [
    {
     "data": {
      "application/javascript": [
       "var rate = 0;\n",
       "// apply setting to  all current CodeMirror instances\n",
       "IPython.notebook.get_cells().map(\n",
       "    function(c) {  return c.code_mirror.options.cursorBlinkRate=rate;  }\n",
       ");\n",
       "\n",
       "// make sure new CodeMirror instance also use this setting\n",
       "CodeMirror.defaults.cursorBlinkRate=rate;"
      ],
      "text/plain": [
       "<IPython.core.display.Javascript object>"
      ]
     },
     "metadata": {},
     "output_type": "display_data"
    }
   ],
   "source": [
    "%%javascript\n",
    "var rate = 0;\n",
    "// apply setting to  all current CodeMirror instances\n",
    "IPython.notebook.get_cells().map(\n",
    "    function(c) {  return c.code_mirror.options.cursorBlinkRate=rate;  }\n",
    ");\n",
    "\n",
    "// make sure new CodeMirror instance also use this setting\n",
    "CodeMirror.defaults.cursorBlinkRate=rate;"
   ]
  },
  {
   "cell_type": "code",
   "execution_count": 131,
   "metadata": {},
   "outputs": [
    {
     "name": "stderr",
     "output_type": "stream",
     "text": [
      "DEBUG:past.translation:Running find_module: svcaller.effect...\n",
      "DEBUG:past.translation:Running load_module for svcaller.effect...\n",
      "DEBUG:past.translation:Excluded svcaller.effect from translation\n",
      "DEBUG:past.translation:Running find_module: svcaller.effect.consequence...\n",
      "DEBUG:past.translation:Running load_module for svcaller.effect.consequence...\n",
      "DEBUG:past.translation:Excluded svcaller.effect.consequence from translation\n"
     ]
    }
   ],
   "source": [
    "from svcaller.effect.consequence import *"
   ]
  },
  {
   "cell_type": "code",
   "execution_count": 133,
   "metadata": {},
   "outputs": [],
   "source": [
    "import pandas as pd"
   ]
  },
  {
   "cell_type": "code",
   "execution_count": 129,
   "metadata": {},
   "outputs": [],
   "source": [
    "test_DEL_1 = pd.DataFrame(\n",
    "    OrderedDict({\n",
    "    \"chrom\": [1],\n",
    "    \"start\": [700],\n",
    "    \"end\": [800],\n",
    "    \"type\": [\"DEL\"],\n",
    "    \"score\": [0],\n",
    "    \"strand\": [\"+\"]\n",
    "})).iloc[0,:]\n",
    "\n",
    "test_regions_1 = pd.DataFrame(\n",
    "    OrderedDict({\n",
    "    \"chrom\": [1, 1],\n",
    "    \"start\": [500, 1500],\n",
    "    \"end\": [1000, 2000],\n",
    "    \"gene\": [\"TS1\", \"TS1\"]\n",
    "}))"
   ]
  },
  {
   "cell_type": "code",
   "execution_count": 136,
   "metadata": {},
   "outputs": [
    {
     "data": {
      "text/plain": [
       "[(0, chrom       1\n",
       "  start     500\n",
       "  end      1000\n",
       "  gene      TS1\n",
       "  Name: 0, dtype: object), (1, chrom       1\n",
       "  start    1500\n",
       "  end      2000\n",
       "  gene      TS1\n",
       "  Name: 1, dtype: object)]"
      ]
     },
     "execution_count": 136,
     "metadata": {},
     "output_type": "execute_result"
    }
   ],
   "source": [
    "[series for x in test_regions_1.iterrows()]"
   ]
  },
  {
   "cell_type": "code",
   "execution_count": 42,
   "metadata": {},
   "outputs": [],
   "source": [
    "with open(\"TumourSupressors.bed\", 'w') as ts_file:\n",
    "    ts_file.write('''1\\t500\\t1000\\tTS1\n",
    "1\\t1500\\t2000\\tTS1\n",
    "2\\t500\\t1000\\tTS2\n",
    "2\\t1500\\t2000\\tTS2\n",
    "''')\n",
    "\n",
    "with open(\"AR.bed\", 'w') as ar_file:\n",
    "    ar_file.write('''X\\t500\\t1000\\tTS1\n",
    "X\\t1500\\t2000\\tTS1\n",
    "X\\t2500\\t3000\\tTS2\n",
    "X\\t3500\\t4000\\tTS2\n",
    "''')\n",
    "\n",
    "with open(\"FusionCandidates.bed\", 'w') as fusion_file:\n",
    "    fusion_file.write('''21\\t1000000\\t1100000\\tERG\n",
    "21\\t2000000\\t2100000\\tTMPRSS2\n",
    "''')\n",
    "\n",
    "with open(\"SVs.bed\", 'w') as svs_file:\n",
    "    svs_file.write('''21\\t1500000\\t1500100\\tDEL\\t0\\t+\n",
    "21\\t2500000\\t2500100\\tDEL\\t0\\t+\n",
    "1\\t1600\\t1700\\tDEL\\t0\\t+\n",
    "1\\t1800\\t1900\\tTRA\\t0\\t+\n",
    "1\\t1400\\t1600\\tDEL\\t0\\t+\n",
    "1\\t3100\\t3200\\tDEL\\t0\\t+\n",
    "''')"
   ]
  },
  {
   "cell_type": "code",
   "execution_count": 128,
   "metadata": {},
   "outputs": [
    {
     "data": {
      "text/plain": [
       "<SvEffect.NO_OVERLAP: 'NO_OVERLAP'>"
      ]
     },
     "execution_count": 128,
     "metadata": {},
     "output_type": "execute_result"
    }
   ],
   "source": [
    "predict_del_effect(test_sv, GeneClass.TUMOUR_SUPRESSOR, test_regions)"
   ]
  },
  {
   "cell_type": "code",
   "execution_count": 67,
   "metadata": {
    "scrolled": false
   },
   "outputs": [
    {
     "name": "stderr",
     "output_type": "stream",
     "text": [
      "TRACE: sv_type: SvType.DEL\n",
      "TRACE: sv_row:\n",
      "0       1\n",
      "1    1600\n",
      "2    1700\n",
      "3     DEL\n",
      "4       0\n",
      "5       +\n",
      "Name: 2, dtype: object\n",
      "TRACE: sv_row:\n",
      "0       1\n",
      "1    1400\n",
      "2    1600\n",
      "3     DEL\n",
      "4       0\n",
      "5       +\n",
      "Name: 4, dtype: object\n",
      "TRACE: sv_type: SvType.INV\n",
      "TRACE: sv_type: SvType.TRA\n",
      "TRACE: sv_row:\n",
      "0       1\n",
      "1    1800\n",
      "2    1900\n",
      "3     TRA\n",
      "4       0\n",
      "5       +\n",
      "Name: 3, dtype: object\n",
      "TRACE: sv_type: SvType.DUP\n",
      "TRACE: sv_type: SvType.DEL\n",
      "TRACE: sv_type: SvType.INV\n",
      "TRACE: sv_type: SvType.TRA\n",
      "TRACE: sv_type: SvType.DUP\n"
     ]
    },
    {
     "data": {
      "text/plain": [
       "defaultdict(list, {'TS1': [None, None, None]})"
      ]
     },
     "execution_count": 67,
     "metadata": {},
     "output_type": "execute_result"
    }
   ],
   "source": [
    "svs_table = extract_groups('SVs.bed')\n",
    "ts_table = extract_groups('TumourSupressors.bed')\n",
    "\n",
    "predict_svs_effect_for_class(svs_table, GeneClass.TUMOUR_SUPRESSOR, ts_table)"
   ]
  }
 ],
 "metadata": {
  "kernelspec": {
   "display_name": "Python 3",
   "language": "python",
   "name": "python3"
  },
  "language_info": {
   "codemirror_mode": {
    "name": "ipython",
    "version": 3
   },
   "file_extension": ".py",
   "mimetype": "text/x-python",
   "name": "python",
   "nbconvert_exporter": "python",
   "pygments_lexer": "ipython3",
   "version": "3.6.2"
  }
 },
 "nbformat": 4,
 "nbformat_minor": 2
}

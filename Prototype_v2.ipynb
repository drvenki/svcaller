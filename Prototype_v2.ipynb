{
 "cells": [
  {
   "cell_type": "code",
   "execution_count": 1,
   "metadata": {},
   "outputs": [
    {
     "data": {
      "application/javascript": [
       "var rate = 0;\n",
       "// apply setting to  all current CodeMirror instances\n",
       "IPython.notebook.get_cells().map(\n",
       "    function(c) {  return c.code_mirror.options.cursorBlinkRate=rate;  }\n",
       ");\n",
       "\n",
       "// make sure new CodeMirror instance also use this setting\n",
       "CodeMirror.defaults.cursorBlinkRate=rate;"
      ],
      "text/plain": [
       "<IPython.core.display.Javascript object>"
      ]
     },
     "metadata": {},
     "output_type": "display_data"
    }
   ],
   "source": [
    "%%javascript\n",
    "var rate = 0;\n",
    "// apply setting to  all current CodeMirror instances\n",
    "IPython.notebook.get_cells().map(\n",
    "    function(c) {  return c.code_mirror.options.cursorBlinkRate=rate;  }\n",
    ");\n",
    "\n",
    "// make sure new CodeMirror instance also use this setting\n",
    "CodeMirror.defaults.cursorBlinkRate=rate;"
   ]
  },
  {
   "cell_type": "code",
   "execution_count": 2,
   "metadata": {},
   "outputs": [],
   "source": [
    "with open(\"TumourSupressors.bed\", 'w') as ts_file:\n",
    "    ts_file.write('''1\\t500\\t1000\\tTS1\n",
    "1\\t1500\\t2000\\tTS1\n",
    "2\\t500\\t1000\\tTS2\n",
    "2\\t1500\\t2000\\tTS2\n",
    "''')\n",
    "\n",
    "with open(\"AR.bed\", 'w') as ar_file:\n",
    "    ar_file.write('''X\\t500\\t1000\\tTS1\n",
    "X\\t1500\\t2000\\tTS1\n",
    "X\\t2500\\t3000\\tTS2\n",
    "X\\t3500\\t4000\\tTS2\n",
    "''')\n",
    "\n",
    "with open(\"FusionCandidates.bed\", 'w') as fusion_file:\n",
    "    fusion_file.write('''21\\t1000000\\t1100000\\tERG\n",
    "21\\t2000000\\t2100000\\tTMPRSS2\n",
    "''')\n",
    "\n",
    "with open(\"SVs.bed\", 'w') as svs_file:\n",
    "    svs_file.write('''21\\t1500000\\t1500100\\tDEL\\t0\\t+\n",
    "21\\t2500000\\t2500100\\tDEL\\t0\\t+\n",
    "''')"
   ]
  },
  {
   "cell_type": "code",
   "execution_count": 16,
   "metadata": {},
   "outputs": [],
   "source": [
    "from enum import Enum\n",
    "from pybedtools import BedTool\n",
    "import pandas as pd\n",
    "from svcaller.calling.events import SvType\n",
    "\n",
    "\n",
    "class SvEffect(Enum):\n",
    "    NO_OVERLAP = \"NO_OVERLAP\"\n",
    "    OVERLAP_WITH_EFFECT = \"OVERLAP_WITH_EFFECT\"\n",
    "    OVERLAP_UNKNOWN_EFFECT = \"OVERLAP_UNKNOWN_EFFECT\"\n",
    "    GENE_FUSION = \"GENE_FUSION\"\n",
    "\n",
    "\n",
    "class GeneClass(Enum):\n",
    "    TUMOUR_SUPRESSOR = \"TUMOUR_SUPRESSOR\"\n",
    "    AR = \"AR\"\n",
    "    FUSION_CANDIDATE = \"FUSION_CANDIDATE\""
   ]
  },
  {
   "cell_type": "code",
   "execution_count": 4,
   "metadata": {},
   "outputs": [],
   "source": [
    "def extract_groups(bed_filename):\n",
    "    df = pd.read_table(bed_filename, header=None, sep=\"\\t\")\n",
    "    return {name: table for name, table in df.groupby(df[3])}"
   ]
  },
  {
   "cell_type": "code",
   "execution_count": 5,
   "metadata": {},
   "outputs": [
    {
     "data": {
      "text/html": [
       "<div>\n",
       "<style>\n",
       "    .dataframe thead tr:only-child th {\n",
       "        text-align: right;\n",
       "    }\n",
       "\n",
       "    .dataframe thead th {\n",
       "        text-align: left;\n",
       "    }\n",
       "\n",
       "    .dataframe tbody tr th {\n",
       "        vertical-align: top;\n",
       "    }\n",
       "</style>\n",
       "<table border=\"1\" class=\"dataframe\">\n",
       "  <thead>\n",
       "    <tr style=\"text-align: right;\">\n",
       "      <th></th>\n",
       "      <th>0</th>\n",
       "      <th>1</th>\n",
       "      <th>2</th>\n",
       "      <th>3</th>\n",
       "      <th>4</th>\n",
       "      <th>5</th>\n",
       "    </tr>\n",
       "  </thead>\n",
       "  <tbody>\n",
       "    <tr>\n",
       "      <th>0</th>\n",
       "      <td>21</td>\n",
       "      <td>1500000</td>\n",
       "      <td>1500100</td>\n",
       "      <td>DEL</td>\n",
       "      <td>0</td>\n",
       "      <td>+</td>\n",
       "    </tr>\n",
       "    <tr>\n",
       "      <th>1</th>\n",
       "      <td>21</td>\n",
       "      <td>2500000</td>\n",
       "      <td>2500100</td>\n",
       "      <td>DEL</td>\n",
       "      <td>0</td>\n",
       "      <td>+</td>\n",
       "    </tr>\n",
       "  </tbody>\n",
       "</table>\n",
       "</div>"
      ],
      "text/plain": [
       "    0        1        2    3  4  5\n",
       "0  21  1500000  1500100  DEL  0  +\n",
       "1  21  2500000  2500100  DEL  0  +"
      ]
     },
     "execution_count": 5,
     "metadata": {},
     "output_type": "execute_result"
    }
   ],
   "source": [
    "list(extract_groups('SVs.bed').values())[0]"
   ]
  },
  {
   "cell_type": "code",
   "execution_count": 6,
   "metadata": {},
   "outputs": [],
   "source": [
    "def predict_effects(svs_filename, ts_filename, ar_filename, fusion_filename):\n",
    "    \"\"\"\n",
    "    Predict the consequence of the specified structural variants on the specified\n",
    "    tumour suppressors, androgen receptor, and gene fusion candidate.\n",
    "\n",
    "    :param svs_filename: Location of bed file specifying the structural variant coordinates.\n",
    "    :param ts_filename: Location of bed file specifying the tumour supressor gene region coords.\n",
    "    :param ar_filename: Location of bed file specifying Androgren Receptor gene region coords.\n",
    "    :param fusion_filename: Location of bed file specifying two broad gene fusion region.\n",
    "\n",
    "    :return: A dictionary with gene class as key and results dictionary as value\n",
    "    \"\"\"\n",
    "\n",
    "    gene_classes = [enum.value for enum in list(GeneClass)]\n",
    "\n",
    "    svs_bed = extract_groups(svs_filename)\n",
    "\n",
    "    gene_to_bed_tables = [extract_groups(filename) for filename in\n",
    "                         [ts_filename, ar_filename, fusion_filename]]\n",
    "\n",
    "    gene_class_to_gene_region_bed = dict(zip(gene_classes, gene_to_bed_tables))\n",
    "\n",
    "    gene_class_to_results = {}\n",
    "    for gene_class, gene_region_bed in gene_class_to_gene_region_bed.items():\n",
    "        gene_class_to_results[gene_class] = \\\n",
    "            predict_effects_for_class(svs_bed, gene_class, gene_region_bed)\n",
    "    \n",
    "    return gene_class_to_results"
   ]
  },
  {
   "cell_type": "code",
   "execution_count": 7,
   "metadata": {},
   "outputs": [],
   "source": [
    "def predict_del_effect(sv, functional_regions):\n",
    "    return None\n",
    "\n",
    "def predict_inv_effect_tumour_suppressor(sv, functional_regions):\n",
    "    return None\n",
    "\n",
    "def predict_dup_effect_tumour_suppressor(sv, functional_regions):\n",
    "    return None\n",
    "\n",
    "def predict_tra_effect_tumour_suppressor(sv, functional_regions):\n",
    "    return None\n",
    "\n",
    "def predict_del_effect(sv, functional_regions):\n",
    "    return None\n",
    "\n",
    "def predict_inv_effect_ar(sv, functional_regions):\n",
    "    return None\n",
    "\n",
    "def predict_dup_effect_ar(sv, functional_regions):\n",
    "    return None\n",
    "\n",
    "def predict_tra_effect_ar(sv, functional_regions):\n",
    "    return None"
   ]
  },
  {
   "cell_type": "code",
   "execution_count": 17,
   "metadata": {},
   "outputs": [],
   "source": [
    "def predict_effects_for_class(svs_table, gene_class, gene_to_table):\n",
    "    sv_and_scenario_to_function = {\n",
    "        (SvType.DEL, GeneClass.TUMOUR_SUPRESSOR): predict_del_effect,\n",
    "        (SvType.INV, GeneClass.TUMOUR_SUPRESSOR): predict_inv_effect_tumour_suppressor,\n",
    "        (SvType.DUP, GeneClass.TUMOUR_SUPRESSOR): predict_dup_effect_tumour_suppressor,\n",
    "        (SvType.TRA, GeneClass.TUMOUR_SUPRESSOR): predict_tra_effect_tumour_suppressor,\n",
    "        (SvType.DEL, GeneClass.AR): predict_del_effect,\n",
    "        (SvType.INV, GeneClass.AR): predict_inv_effect_ar,\n",
    "        (SvType.DUP, GeneClass.AR): predict_dup_effect_ar,\n",
    "        (SvType.TRA, GeneClass.AR): predict_tra_effect_ar,\n",
    "    }\n",
    "\n",
    "    for sv_type in SvType\n",
    "    for gene in gene_to_table:\n",
    "        # Generate a BedTool from the current gene's bed-formatted data:\n",
    "        gene_bed = BedTool(gene_to_table[gene].to_string(), from_string=True)\n",
    "\n",
    "        # Convert it\n",
    "        print(gene_bed)\n",
    "\n",
    "    return {}"
   ]
  },
  {
   "cell_type": "code",
   "execution_count": 20,
   "metadata": {},
   "outputs": [],
   "source": [
    "svs_tmp = extract_groups('SVs.bed')\n",
    "ts_tmp = extract_groups('TumourSupressors.bed')"
   ]
  },
  {
   "cell_type": "code",
   "execution_count": 27,
   "metadata": {},
   "outputs": [
    {
     "name": "stdout",
     "output_type": "stream",
     "text": [
      "0\t1\t2\t3\n",
      "0\t1\t500\t1000\tTS1\n",
      "1\t1\t1500\t2000\tTS1\n",
      "\n",
      "0\t1\t2\t3\n",
      "2\t2\t500\t1000\tTS2\n",
      "3\t2\t1500\t2000\tTS2\n",
      "\n"
     ]
    },
    {
     "data": {
      "text/plain": [
       "{}"
      ]
     },
     "execution_count": 27,
     "metadata": {},
     "output_type": "execute_result"
    }
   ],
   "source": [
    "predict_effects_for_class(svs_tmp, GeneClass.TUMOUR_SUPRESSOR, ts_tmp)"
   ]
  },
  {
   "cell_type": "code",
   "execution_count": 11,
   "metadata": {},
   "outputs": [],
   "source": [
    "from pybedtools import BedTool\n",
    "import pandas as pd"
   ]
  },
  {
   "cell_type": "code",
   "execution_count": 19,
   "metadata": {},
   "outputs": [],
   "source": [
    "with open(\"Test.bed\", 'w') as f:\n",
    "    f.write('''\n",
    "1\\t500\\t1000\\tGene1\n",
    "1\\t1500\\t2000\\tGene1\n",
    "2\\t500\\t1000\\tGene2\n",
    "2\\t1500\\t2000\\tGene2\n",
    "''')"
   ]
  },
  {
   "cell_type": "code",
   "execution_count": 4,
   "metadata": {},
   "outputs": [],
   "source": [
    "x = BedTool(\"Test.bed\")"
   ]
  },
  {
   "cell_type": "code",
   "execution_count": 15,
   "metadata": {},
   "outputs": [],
   "source": [
    "??pd.read_table"
   ]
  },
  {
   "cell_type": "code",
   "execution_count": 22,
   "metadata": {},
   "outputs": [],
   "source": [
    "df = pd.read_table(\"Test.bed\", header=None, sep=\"\\t\", names=[\"chrom\", \"start\", \"end\", \"gene\"])"
   ]
  },
  {
   "cell_type": "code",
   "execution_count": 23,
   "metadata": {},
   "outputs": [
    {
     "data": {
      "text/html": [
       "<div>\n",
       "<style>\n",
       "    .dataframe thead tr:only-child th {\n",
       "        text-align: right;\n",
       "    }\n",
       "\n",
       "    .dataframe thead th {\n",
       "        text-align: left;\n",
       "    }\n",
       "\n",
       "    .dataframe tbody tr th {\n",
       "        vertical-align: top;\n",
       "    }\n",
       "</style>\n",
       "<table border=\"1\" class=\"dataframe\">\n",
       "  <thead>\n",
       "    <tr style=\"text-align: right;\">\n",
       "      <th></th>\n",
       "      <th>chrom</th>\n",
       "      <th>start</th>\n",
       "      <th>end</th>\n",
       "      <th>gene</th>\n",
       "    </tr>\n",
       "  </thead>\n",
       "  <tbody>\n",
       "    <tr>\n",
       "      <th>0</th>\n",
       "      <td>1</td>\n",
       "      <td>500</td>\n",
       "      <td>1000</td>\n",
       "      <td>Gene1</td>\n",
       "    </tr>\n",
       "    <tr>\n",
       "      <th>1</th>\n",
       "      <td>1</td>\n",
       "      <td>1500</td>\n",
       "      <td>2000</td>\n",
       "      <td>Gene1</td>\n",
       "    </tr>\n",
       "    <tr>\n",
       "      <th>2</th>\n",
       "      <td>2</td>\n",
       "      <td>500</td>\n",
       "      <td>1000</td>\n",
       "      <td>Gene2</td>\n",
       "    </tr>\n",
       "    <tr>\n",
       "      <th>3</th>\n",
       "      <td>2</td>\n",
       "      <td>1500</td>\n",
       "      <td>2000</td>\n",
       "      <td>Gene2</td>\n",
       "    </tr>\n",
       "  </tbody>\n",
       "</table>\n",
       "</div>"
      ],
      "text/plain": [
       "   chrom  start   end   gene\n",
       "0      1    500  1000  Gene1\n",
       "1      1   1500  2000  Gene1\n",
       "2      2    500  1000  Gene2\n",
       "3      2   1500  2000  Gene2"
      ]
     },
     "execution_count": 23,
     "metadata": {},
     "output_type": "execute_result"
    }
   ],
   "source": [
    "df"
   ]
  },
  {
   "cell_type": "code",
   "execution_count": 28,
   "metadata": {},
   "outputs": [],
   "source": [
    "unique_genes = sorted(list(set(df[\"gene\"])))"
   ]
  },
  {
   "cell_type": "code",
   "execution_count": 39,
   "metadata": {},
   "outputs": [],
   "source": [
    "gene_groups = list(df.groupby(df['gene']))"
   ]
  },
  {
   "cell_type": "code",
   "execution_count": 41,
   "metadata": {},
   "outputs": [
    {
     "data": {
      "text/html": [
       "<div>\n",
       "<style>\n",
       "    .dataframe thead tr:only-child th {\n",
       "        text-align: right;\n",
       "    }\n",
       "\n",
       "    .dataframe thead th {\n",
       "        text-align: left;\n",
       "    }\n",
       "\n",
       "    .dataframe tbody tr th {\n",
       "        vertical-align: top;\n",
       "    }\n",
       "</style>\n",
       "<table border=\"1\" class=\"dataframe\">\n",
       "  <thead>\n",
       "    <tr style=\"text-align: right;\">\n",
       "      <th></th>\n",
       "      <th>chrom</th>\n",
       "      <th>start</th>\n",
       "      <th>end</th>\n",
       "      <th>gene</th>\n",
       "    </tr>\n",
       "  </thead>\n",
       "  <tbody>\n",
       "    <tr>\n",
       "      <th>0</th>\n",
       "      <td>1</td>\n",
       "      <td>500</td>\n",
       "      <td>1000</td>\n",
       "      <td>Gene1</td>\n",
       "    </tr>\n",
       "    <tr>\n",
       "      <th>1</th>\n",
       "      <td>1</td>\n",
       "      <td>1500</td>\n",
       "      <td>2000</td>\n",
       "      <td>Gene1</td>\n",
       "    </tr>\n",
       "  </tbody>\n",
       "</table>\n",
       "</div>"
      ],
      "text/plain": [
       "   chrom  start   end   gene\n",
       "0      1    500  1000  Gene1\n",
       "1      1   1500  2000  Gene1"
      ]
     },
     "execution_count": 41,
     "metadata": {},
     "output_type": "execute_result"
    }
   ],
   "source": [
    "gene_groups[0][1]"
   ]
  },
  {
   "cell_type": "code",
   "execution_count": null,
   "metadata": {},
   "outputs": [],
   "source": []
  }
 ],
 "metadata": {
  "kernelspec": {
   "display_name": "Python 3",
   "language": "python",
   "name": "python3"
  },
  "language_info": {
   "codemirror_mode": {
    "name": "ipython",
    "version": 3
   },
   "file_extension": ".py",
   "mimetype": "text/x-python",
   "name": "python",
   "nbconvert_exporter": "python",
   "pygments_lexer": "ipython3",
   "version": "3.6.2"
  }
 },
 "nbformat": 4,
 "nbformat_minor": 2
}

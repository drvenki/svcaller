{
 "cells": [
  {
   "cell_type": "code",
   "execution_count": 41,
   "metadata": {},
   "outputs": [
    {
     "data": {
      "application/javascript": [
       "var rate = 0;\n",
       "// apply setting to  all current CodeMirror instances\n",
       "IPython.notebook.get_cells().map(\n",
       "    function(c) {  return c.code_mirror.options.cursorBlinkRate=rate;  }\n",
       ");\n",
       "\n",
       "// make sure new CodeMirror instance also use this setting\n",
       "CodeMirror.defaults.cursorBlinkRate=rate;"
      ],
      "text/plain": [
       "<IPython.core.display.Javascript object>"
      ]
     },
     "metadata": {},
     "output_type": "display_data"
    }
   ],
   "source": [
    "%%javascript\n",
    "var rate = 0;\n",
    "// apply setting to  all current CodeMirror instances\n",
    "IPython.notebook.get_cells().map(\n",
    "    function(c) {  return c.code_mirror.options.cursorBlinkRate=rate;  }\n",
    ");\n",
    "\n",
    "// make sure new CodeMirror instance also use this setting\n",
    "CodeMirror.defaults.cursorBlinkRate=rate;"
   ]
  },
  {
   "cell_type": "code",
   "execution_count": 99,
   "metadata": {},
   "outputs": [],
   "source": [
    "test_sv = pd.DataFrame(\n",
    "    OrderedDict({\n",
    "    \"chrom\": [21],\n",
    "    \"start\": [1500000],\n",
    "    \"end\": [1500100],\n",
    "    \"type\": [\"DEL\"],\n",
    "    \"score\": [0],\n",
    "    \"strand\": [\"+\"]\n",
    "})).iloc[0,:]\n",
    "\n",
    "test_regions = pd.DataFrame(\n",
    "    OrderedDict({\n",
    "    \"chrom\": [2, 2],\n",
    "    \"start\": [500, 1500],\n",
    "    \"end\": [1000, 2000],\n",
    "    \"gene\": [\"TS2\", \"TS2\"]\n",
    "}))"
   ]
  },
  {
   "cell_type": "code",
   "execution_count": 42,
   "metadata": {},
   "outputs": [],
   "source": [
    "with open(\"TumourSupressors.bed\", 'w') as ts_file:\n",
    "    ts_file.write('''1\\t500\\t1000\\tTS1\n",
    "1\\t1500\\t2000\\tTS1\n",
    "2\\t500\\t1000\\tTS2\n",
    "2\\t1500\\t2000\\tTS2\n",
    "''')\n",
    "\n",
    "with open(\"AR.bed\", 'w') as ar_file:\n",
    "    ar_file.write('''X\\t500\\t1000\\tTS1\n",
    "X\\t1500\\t2000\\tTS1\n",
    "X\\t2500\\t3000\\tTS2\n",
    "X\\t3500\\t4000\\tTS2\n",
    "''')\n",
    "\n",
    "with open(\"FusionCandidates.bed\", 'w') as fusion_file:\n",
    "    fusion_file.write('''21\\t1000000\\t1100000\\tERG\n",
    "21\\t2000000\\t2100000\\tTMPRSS2\n",
    "''')\n",
    "\n",
    "with open(\"SVs.bed\", 'w') as svs_file:\n",
    "    svs_file.write('''21\\t1500000\\t1500100\\tDEL\\t0\\t+\n",
    "21\\t2500000\\t2500100\\tDEL\\t0\\t+\n",
    "1\\t1600\\t1700\\tDEL\\t0\\t+\n",
    "1\\t1800\\t1900\\tTRA\\t0\\t+\n",
    "1\\t1400\\t1600\\tDEL\\t0\\t+\n",
    "1\\t3100\\t3200\\tDEL\\t0\\t+\n",
    "''')"
   ]
  },
  {
   "cell_type": "code",
   "execution_count": 63,
   "metadata": {},
   "outputs": [],
   "source": [
    "from enum import Enum\n",
    "from pybedtools import BedTool\n",
    "from collections import defaultdict, OrderedDict\n",
    "import pandas as pd\n",
    "import sys\n",
    "from svcaller.calling.events import SvType\n",
    "\n",
    "\n",
    "class SvEffect(Enum):\n",
    "    NO_OVERLAP = \"NO_OVERLAP\"\n",
    "    OVERLAP_WITH_EFFECT = \"OVERLAP_WITH_EFFECT\"\n",
    "    OVERLAP_UNKNOWN_EFFECT = \"OVERLAP_UNKNOWN_EFFECT\"\n",
    "\n",
    "\n",
    "class GeneClass(Enum):\n",
    "    TUMOUR_SUPRESSOR = \"TUMOUR_SUPRESSOR\"\n",
    "    AR = \"AR\"\n",
    "    FUSION_CANDIDATE = \"FUSION_CANDIDATE\""
   ]
  },
  {
   "cell_type": "code",
   "execution_count": 44,
   "metadata": {},
   "outputs": [],
   "source": [
    "def extract_groups(bed_filename):\n",
    "    df = pd.read_table(bed_filename, header=None, sep=\"\\t\")\n",
    "    return {name: table for name, table in df.groupby(df[3])}"
   ]
  },
  {
   "cell_type": "code",
   "execution_count": 45,
   "metadata": {},
   "outputs": [
    {
     "data": {
      "text/html": [
       "<div>\n",
       "<style>\n",
       "    .dataframe thead tr:only-child th {\n",
       "        text-align: right;\n",
       "    }\n",
       "\n",
       "    .dataframe thead th {\n",
       "        text-align: left;\n",
       "    }\n",
       "\n",
       "    .dataframe tbody tr th {\n",
       "        vertical-align: top;\n",
       "    }\n",
       "</style>\n",
       "<table border=\"1\" class=\"dataframe\">\n",
       "  <thead>\n",
       "    <tr style=\"text-align: right;\">\n",
       "      <th></th>\n",
       "      <th>0</th>\n",
       "      <th>1</th>\n",
       "      <th>2</th>\n",
       "      <th>3</th>\n",
       "      <th>4</th>\n",
       "      <th>5</th>\n",
       "    </tr>\n",
       "  </thead>\n",
       "  <tbody>\n",
       "    <tr>\n",
       "      <th>0</th>\n",
       "      <td>21</td>\n",
       "      <td>1500000</td>\n",
       "      <td>1500100</td>\n",
       "      <td>DEL</td>\n",
       "      <td>0</td>\n",
       "      <td>+</td>\n",
       "    </tr>\n",
       "    <tr>\n",
       "      <th>1</th>\n",
       "      <td>21</td>\n",
       "      <td>2500000</td>\n",
       "      <td>2500100</td>\n",
       "      <td>DEL</td>\n",
       "      <td>0</td>\n",
       "      <td>+</td>\n",
       "    </tr>\n",
       "    <tr>\n",
       "      <th>2</th>\n",
       "      <td>1</td>\n",
       "      <td>1600</td>\n",
       "      <td>1700</td>\n",
       "      <td>DEL</td>\n",
       "      <td>0</td>\n",
       "      <td>+</td>\n",
       "    </tr>\n",
       "    <tr>\n",
       "      <th>4</th>\n",
       "      <td>1</td>\n",
       "      <td>1400</td>\n",
       "      <td>1600</td>\n",
       "      <td>DEL</td>\n",
       "      <td>0</td>\n",
       "      <td>+</td>\n",
       "    </tr>\n",
       "    <tr>\n",
       "      <th>5</th>\n",
       "      <td>1</td>\n",
       "      <td>3100</td>\n",
       "      <td>3200</td>\n",
       "      <td>DEL</td>\n",
       "      <td>0</td>\n",
       "      <td>+</td>\n",
       "    </tr>\n",
       "  </tbody>\n",
       "</table>\n",
       "</div>"
      ],
      "text/plain": [
       "    0        1        2    3  4  5\n",
       "0  21  1500000  1500100  DEL  0  +\n",
       "1  21  2500000  2500100  DEL  0  +\n",
       "2   1     1600     1700  DEL  0  +\n",
       "4   1     1400     1600  DEL  0  +\n",
       "5   1     3100     3200  DEL  0  +"
      ]
     },
     "execution_count": 45,
     "metadata": {},
     "output_type": "execute_result"
    }
   ],
   "source": [
    "list(extract_groups('SVs.bed').values())[0]"
   ]
  },
  {
   "cell_type": "code",
   "execution_count": 46,
   "metadata": {},
   "outputs": [],
   "source": [
    "def predict_effects(svs_filename, ts_filename, ar_filename, fusion_filename):\n",
    "    \"\"\"\n",
    "    Predict the consequence of the specified structural variants on the specified\n",
    "    tumour suppressors, androgen receptor, and gene fusion candidate.\n",
    "\n",
    "    :param svs_filename: Location of bed file specifying the structural variant coordinates.\n",
    "    :param ts_filename: Location of bed file specifying the tumour supressor gene region coords.\n",
    "    :param ar_filename: Location of bed file specifying Androgren Receptor gene region coords.\n",
    "    :param fusion_filename: Location of bed file specifying two broad gene fusion region.\n",
    "\n",
    "    :return: A dictionary with gene class as key and results dictionary as value\n",
    "    \"\"\"\n",
    "\n",
    "    gene_classes = [enum.value for enum in list(GeneClass)]\n",
    "\n",
    "    svs_bed = extract_groups(svs_filename)\n",
    "\n",
    "    gene_to_bed_tables = [extract_groups(filename) for filename in\n",
    "                         [ts_filename, ar_filename, fusion_filename]]\n",
    "\n",
    "    gene_class_to_gene_region_bed = dict(zip(gene_classes, gene_to_bed_tables))\n",
    "\n",
    "    gene_class_to_results = {}\n",
    "    for gene_class, gene_region_bed in gene_class_to_gene_region_bed.items():\n",
    "        gene_class_to_results[gene_class] = \\\n",
    "            predict_effects_for_class(svs_bed, gene_class, gene_region_bed)\n",
    "    \n",
    "    return gene_class_to_results"
   ]
  },
  {
   "cell_type": "code",
   "execution_count": 48,
   "metadata": {},
   "outputs": [],
   "source": [
    "def filter_svs(svs_table, sv_type, gene_coords):\n",
    "    svs_table[3] == sv_type\n",
    "    return None"
   ]
  },
  {
   "cell_type": "code",
   "execution_count": 112,
   "metadata": {},
   "outputs": [],
   "source": [
    "def sv_in_regions(sv, regions):\n",
    "    return (sv.iloc[0] == regions.iloc[0,0]) and \\\n",
    "           (sv.iloc[2] > min(regions.iloc[:,1])) and \\\n",
    "           (sv.iloc[1] < max(regions.iloc[:,2]))"
   ]
  },
  {
   "cell_type": "code",
   "execution_count": 113,
   "metadata": {},
   "outputs": [],
   "source": [
    "assert sv_in_regions(test_sv, test_regions) == False"
   ]
  },
  {
   "cell_type": "code",
   "execution_count": 72,
   "metadata": {},
   "outputs": [],
   "source": [
    "class InvalidSvEffectException(Exception):\n",
    "    pass"
   ]
  },
  {
   "cell_type": "code",
   "execution_count": 88,
   "metadata": {},
   "outputs": [],
   "source": [
    "def collapse_sv_predictions(sv_effects):\n",
    "    if not all([effect in SvEffect for effect in sv_effects]):\n",
    "        raise InvalidSvEffectException(\"Input list {} includes invalid SvEffect value:\".format(sv_effects))\n",
    "\n",
    "    curr_max_effect = SvEffect.NO_OVERLAP\n",
    "    for effect in sv_effects:\n",
    "        if effect == SvEffect.OVERLAP_UNKNOWN_EFFECT:\n",
    "            if curr_max_effect == SvEffect.NO_OVERLAP:\n",
    "                curr_max_effect = SvEffect.OVERLAP_UNKNOWN_EFFECT\n",
    "        elif effect == SvEffect.OVERLAP_WITH_EFFECT:\n",
    "            curr_max_effect = SvEffect.OVERLAP_WITH_EFFECT\n",
    "\n",
    "    return curr_max_effect"
   ]
  },
  {
   "cell_type": "code",
   "execution_count": 92,
   "metadata": {},
   "outputs": [],
   "source": [
    "#collapse_sv_predictions([None])"
   ]
  },
  {
   "cell_type": "code",
   "execution_count": 93,
   "metadata": {},
   "outputs": [],
   "source": [
    "assert collapse_sv_predictions([SvEffect.NO_OVERLAP]) == SvEffect.NO_OVERLAP"
   ]
  },
  {
   "cell_type": "code",
   "execution_count": 94,
   "metadata": {},
   "outputs": [],
   "source": [
    "assert collapse_sv_predictions([SvEffect.NO_OVERLAP, SvEffect.OVERLAP_UNKNOWN_EFFECT, SvEffect.NO_OVERLAP]) == SvEffect.OVERLAP_UNKNOWN_EFFECT"
   ]
  },
  {
   "cell_type": "code",
   "execution_count": 95,
   "metadata": {},
   "outputs": [],
   "source": [
    "assert collapse_sv_predictions([SvEffect.NO_OVERLAP, SvEffect.OVERLAP_UNKNOWN_EFFECT, SvEffect.OVERLAP_WITH_EFFECT]) == SvEffect.OVERLAP_WITH_EFFECT"
   ]
  },
  {
   "cell_type": "code",
   "execution_count": 117,
   "metadata": {},
   "outputs": [],
   "source": [
    "def region1_overlaps_region2(region1, region2):\n",
    "    return (region1[0] == region2[0]) and (region1[2] > region2[1]) and (region1[1] < region2[2])"
   ]
  },
  {
   "cell_type": "code",
   "execution_count": 118,
   "metadata": {},
   "outputs": [],
   "source": [
    "assert region1_overlaps_region2(('1', 1000, 2000), ('1', 1500, 2500)) == True"
   ]
  },
  {
   "cell_type": "code",
   "execution_count": 118,
   "metadata": {},
   "outputs": [],
   "source": [
    "assert region1_overlaps_region2(('1', 1000, 2000), ('1', 500, 1500)) == True"
   ]
  },
  {
   "cell_type": "code",
   "execution_count": 118,
   "metadata": {},
   "outputs": [],
   "source": [
    "assert region1_overlaps_region2(('1', 1000, 2000), ('1', 2500, 3000)) == False"
   ]
  },
  {
   "cell_type": "code",
   "execution_count": 118,
   "metadata": {},
   "outputs": [],
   "source": [
    "assert region1_overlaps_region2(('1', 1000, 2000), ('1', 2500, 3000)) == False"
   ]
  },
  {
   "cell_type": "code",
   "execution_count": 108,
   "metadata": {},
   "outputs": [],
   "source": [
    "def predict_del_effect(sv, gene_class, functional_regions):\n",
    "    # Ignore gene_class; just determine effect based on overlap with any of\n",
    "    # the specified functional_regions.\n",
    "\n",
    "    assert sv[3] == SvType.DEL.value\n",
    "\n",
    "    curr_prediction = SvEffect.NO_OVERLAP\n",
    "    if sv_in_regions(sv, functional_regions):\n",
    "        curr_prediction = SvEffect.OVERLAP_UNKNOWN_EFFECT\n",
    "\n",
    "    region_overlap_values = [sv_overlaps_region(sv, region) for region in functional_regions]\n",
    "    if any(region_overlap_values):\n",
    "        curr_prediction = SvEffect.OVERLAP_WITH_EFFECT\n",
    "\n",
    "    return curr_prediction"
   ]
  },
  {
   "cell_type": "code",
   "execution_count": 110,
   "metadata": {},
   "outputs": [
    {
     "ename": "NameError",
     "evalue": "name 'sv_overlaps_feature' is not defined",
     "output_type": "error",
     "traceback": [
      "\u001b[0;31m---------------------------------------------------------------------------\u001b[0m",
      "\u001b[0;31mNameError\u001b[0m                                 Traceback (most recent call last)",
      "\u001b[0;32m<ipython-input-110-79cff469ccbf>\u001b[0m in \u001b[0;36m<module>\u001b[0;34m()\u001b[0m\n\u001b[0;32m----> 1\u001b[0;31m \u001b[0mpredict_del_effect\u001b[0m\u001b[0;34m(\u001b[0m\u001b[0mtest_sv\u001b[0m\u001b[0;34m,\u001b[0m \u001b[0mGeneClass\u001b[0m\u001b[0;34m.\u001b[0m\u001b[0mTUMOUR_SUPRESSOR\u001b[0m\u001b[0;34m,\u001b[0m \u001b[0mtest_regions\u001b[0m\u001b[0;34m)\u001b[0m\u001b[0;34m\u001b[0m\u001b[0m\n\u001b[0m",
      "\u001b[0;32m<ipython-input-108-f0aa6696abd8>\u001b[0m in \u001b[0;36mpredict_del_effect\u001b[0;34m(sv, gene_class, functional_regions)\u001b[0m\n\u001b[1;32m      9\u001b[0m         \u001b[0mcurr_prediction\u001b[0m \u001b[0;34m=\u001b[0m \u001b[0mSvEffect\u001b[0m\u001b[0;34m.\u001b[0m\u001b[0mOVERLAP_UNKNOWN_EFFECT\u001b[0m\u001b[0;34m\u001b[0m\u001b[0m\n\u001b[1;32m     10\u001b[0m \u001b[0;34m\u001b[0m\u001b[0m\n\u001b[0;32m---> 11\u001b[0;31m     \u001b[0mregion_overlap_values\u001b[0m \u001b[0;34m=\u001b[0m \u001b[0;34m[\u001b[0m\u001b[0msv_overlaps_feature\u001b[0m\u001b[0;34m(\u001b[0m\u001b[0msv\u001b[0m\u001b[0;34m,\u001b[0m \u001b[0mregion\u001b[0m\u001b[0;34m)\u001b[0m \u001b[0;32mfor\u001b[0m \u001b[0mregion\u001b[0m \u001b[0;32min\u001b[0m \u001b[0mfunctional_regions\u001b[0m\u001b[0;34m]\u001b[0m\u001b[0;34m\u001b[0m\u001b[0m\n\u001b[0m\u001b[1;32m     12\u001b[0m     \u001b[0;32mif\u001b[0m \u001b[0many\u001b[0m\u001b[0;34m(\u001b[0m\u001b[0mregion_overlap_values\u001b[0m\u001b[0;34m)\u001b[0m\u001b[0;34m:\u001b[0m\u001b[0;34m\u001b[0m\u001b[0m\n\u001b[1;32m     13\u001b[0m         \u001b[0mcurr_prediction\u001b[0m \u001b[0;34m=\u001b[0m \u001b[0mSvEffect\u001b[0m\u001b[0;34m.\u001b[0m\u001b[0mOVERLAP_WITH_EFFECT\u001b[0m\u001b[0;34m\u001b[0m\u001b[0m\n",
      "\u001b[0;32m<ipython-input-108-f0aa6696abd8>\u001b[0m in \u001b[0;36m<listcomp>\u001b[0;34m(.0)\u001b[0m\n\u001b[1;32m      9\u001b[0m         \u001b[0mcurr_prediction\u001b[0m \u001b[0;34m=\u001b[0m \u001b[0mSvEffect\u001b[0m\u001b[0;34m.\u001b[0m\u001b[0mOVERLAP_UNKNOWN_EFFECT\u001b[0m\u001b[0;34m\u001b[0m\u001b[0m\n\u001b[1;32m     10\u001b[0m \u001b[0;34m\u001b[0m\u001b[0m\n\u001b[0;32m---> 11\u001b[0;31m     \u001b[0mregion_overlap_values\u001b[0m \u001b[0;34m=\u001b[0m \u001b[0;34m[\u001b[0m\u001b[0msv_overlaps_feature\u001b[0m\u001b[0;34m(\u001b[0m\u001b[0msv\u001b[0m\u001b[0;34m,\u001b[0m \u001b[0mregion\u001b[0m\u001b[0;34m)\u001b[0m \u001b[0;32mfor\u001b[0m \u001b[0mregion\u001b[0m \u001b[0;32min\u001b[0m \u001b[0mfunctional_regions\u001b[0m\u001b[0;34m]\u001b[0m\u001b[0;34m\u001b[0m\u001b[0m\n\u001b[0m\u001b[1;32m     12\u001b[0m     \u001b[0;32mif\u001b[0m \u001b[0many\u001b[0m\u001b[0;34m(\u001b[0m\u001b[0mregion_overlap_values\u001b[0m\u001b[0;34m)\u001b[0m\u001b[0;34m:\u001b[0m\u001b[0;34m\u001b[0m\u001b[0m\n\u001b[1;32m     13\u001b[0m         \u001b[0mcurr_prediction\u001b[0m \u001b[0;34m=\u001b[0m \u001b[0mSvEffect\u001b[0m\u001b[0;34m.\u001b[0m\u001b[0mOVERLAP_WITH_EFFECT\u001b[0m\u001b[0;34m\u001b[0m\u001b[0m\n",
      "\u001b[0;31mNameError\u001b[0m: name 'sv_overlaps_feature' is not defined"
     ]
    },
    {
     "name": "stderr",
     "output_type": "stream",
     "text": [
      "DEBUG:past.translation:Running find_module: zmq.backend.cython.zmq...\n",
      "DEBUG:past.translation:Py2Fixer could not find {0}\n",
      "DEBUG:past.translation:Exception was: zmq)\n",
      "DEBUG:past.translation:Running find_module: zmq.backend.cython.zmq...\n",
      "DEBUG:past.translation:Py2Fixer could not find {0}\n",
      "DEBUG:past.translation:Exception was: zmq)\n"
     ]
    }
   ],
   "source": [
    "predict_del_effect(test_sv, GeneClass.TUMOUR_SUPRESSOR, test_regions)"
   ]
  },
  {
   "cell_type": "code",
   "execution_count": 47,
   "metadata": {},
   "outputs": [],
   "source": [
    "def predict_inv_effect(sv, gene_class, functional_regions):\n",
    "    return None\n",
    "\n",
    "def predict_dup_effect(sv, gene_class, functional_regions):\n",
    "    return None\n",
    "\n",
    "def predict_tra_effect(sv, gene_class, functional_regions):\n",
    "    return None"
   ]
  },
  {
   "cell_type": "code",
   "execution_count": 96,
   "metadata": {},
   "outputs": [],
   "source": [
    "def predict_svs_gene_effect(svs, gene_class, gene_regions):\n",
    "    # Data structure for emulating switch statement:\n",
    "    svtype_to_function = {\n",
    "        SvType.DEL: predict_del_effect,\n",
    "        SvType.INV: predict_inv_effect,\n",
    "        SvType.DUP: predict_dup_effect,\n",
    "        SvType.TRA: predict_tra_effect,\n",
    "    }\n",
    "\n",
    "    # Currently calculate each sv effect individually and collapse down\n",
    "    # to a single prediction:\n",
    "    all_svs_effects = []\n",
    "    for sv_type in [type_ for type_ in SvType]:\n",
    "        print(\"TRACE: sv_type: {}\".format(sv_type), file=sys.stderr)\n",
    "\n",
    "        # Retrieve the SVs of the specified type:\n",
    "        svs_of_type = svs.get(sv_type.value, pd.DataFrame({}))\n",
    "            \n",
    "        # Retrieve the relevant predictor function:\n",
    "        predictor_function = sv_and_scenario_to_function[sv_type]\n",
    "\n",
    "        # Apply that function to each SV:\n",
    "        for _, sv_row in svs_of_type.iterrows():\n",
    "            print(\"TRACE: sv_row:\", file=sys.stderr)\n",
    "            print(sv_row, file=sys.stderr)\n",
    "            all_svs_effects.append(predictor_function(sv_row, gene_class, gene_regions))\n",
    "    \n",
    "    return collapse_sv_predictions(all_svs_effects)"
   ]
  },
  {
   "cell_type": "code",
   "execution_count": null,
   "metadata": {},
   "outputs": [],
   "source": [
    "# XXX ADD TESTS FOR THIS"
   ]
  },
  {
   "cell_type": "code",
   "execution_count": 97,
   "metadata": {},
   "outputs": [],
   "source": [
    "def predict_effects_for_class(svs_table, gene_class, gene_to_table):\n",
    "    gene_to_effect = {}\n",
    "    for gene in gene_to_table:\n",
    "        gene_regions = gene_to_table[gene]\n",
    "        \n",
    "        def sv_in_regions_tmp(sv):\n",
    "            return sv_in_regions(sv, gene_regions)\n",
    "\n",
    "        overlapping_svs = svs_table[svs_table.apply(sv_in_regions_tmp, axis=1)]\n",
    "        \n",
    "        gene_svs_effect = predict_svs_gene_effect(overlapping_svs, gene_class, gene_regions)\n",
    "        gene_to_effect[gene] = gene_svs_effect\n",
    "\n",
    "    return gene_to_effects"
   ]
  },
  {
   "cell_type": "code",
   "execution_count": 67,
   "metadata": {
    "scrolled": false
   },
   "outputs": [
    {
     "name": "stderr",
     "output_type": "stream",
     "text": [
      "TRACE: sv_type: SvType.DEL\n",
      "TRACE: sv_row:\n",
      "0       1\n",
      "1    1600\n",
      "2    1700\n",
      "3     DEL\n",
      "4       0\n",
      "5       +\n",
      "Name: 2, dtype: object\n",
      "TRACE: sv_row:\n",
      "0       1\n",
      "1    1400\n",
      "2    1600\n",
      "3     DEL\n",
      "4       0\n",
      "5       +\n",
      "Name: 4, dtype: object\n",
      "TRACE: sv_type: SvType.INV\n",
      "TRACE: sv_type: SvType.TRA\n",
      "TRACE: sv_row:\n",
      "0       1\n",
      "1    1800\n",
      "2    1900\n",
      "3     TRA\n",
      "4       0\n",
      "5       +\n",
      "Name: 3, dtype: object\n",
      "TRACE: sv_type: SvType.DUP\n",
      "TRACE: sv_type: SvType.DEL\n",
      "TRACE: sv_type: SvType.INV\n",
      "TRACE: sv_type: SvType.TRA\n",
      "TRACE: sv_type: SvType.DUP\n"
     ]
    },
    {
     "data": {
      "text/plain": [
       "defaultdict(list, {'TS1': [None, None, None]})"
      ]
     },
     "execution_count": 67,
     "metadata": {},
     "output_type": "execute_result"
    }
   ],
   "source": [
    "svs_table = extract_groups('SVs.bed')\n",
    "ts_table = extract_groups('TumourSupressors.bed')\n",
    "\n",
    "predict_effects_for_class(svs_table, GeneClass.TUMOUR_SUPRESSOR, ts_table)"
   ]
  },
  {
   "cell_type": "code",
   "execution_count": 62,
   "metadata": {},
   "outputs": [
    {
     "data": {
      "text/plain": [
       "{'DEL':     0        1        2    3  4  5\n",
       " 0  21  1500000  1500100  DEL  0  +\n",
       " 1  21  2500000  2500100  DEL  0  +\n",
       " 2   1     1600     1700  DEL  0  +\n",
       " 4   1     1400     1600  DEL  0  +\n",
       " 5   1     3100     3200  DEL  0  +, 'TRA':    0     1     2    3  4  5\n",
       " 3  1  1800  1900  TRA  0  +}"
      ]
     },
     "execution_count": 62,
     "metadata": {},
     "output_type": "execute_result"
    }
   ],
   "source": [
    "svs_table"
   ]
  }
 ],
 "metadata": {
  "kernelspec": {
   "display_name": "Python 3",
   "language": "python",
   "name": "python3"
  },
  "language_info": {
   "codemirror_mode": {
    "name": "ipython",
    "version": 3
   },
   "file_extension": ".py",
   "mimetype": "text/x-python",
   "name": "python",
   "nbconvert_exporter": "python",
   "pygments_lexer": "ipython3",
   "version": "3.6.2"
  }
 },
 "nbformat": 4,
 "nbformat_minor": 2
}
